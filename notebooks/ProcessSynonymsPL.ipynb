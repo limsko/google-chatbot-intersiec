{
 "cells": [
  {
   "cell_type": "markdown",
   "metadata": {},
   "source": [
    "# Process Synonyms PL\n",
    "\n",
    "This notebook uses a combination of Python data science libraries and the Google Natural Language API (machine learning) to expand the vocabulary of the chatbot by generating synonyms for topics created in the previous notebook."
   ]
  },
  {
   "cell_type": "code",
   "execution_count": null,
   "metadata": {},
   "outputs": [],
   "source": [
    "!pip uninstall -y google-cloud-datastore"
   ]
  },
  {
   "cell_type": "code",
   "execution_count": null,
   "metadata": {},
   "outputs": [],
   "source": [
    "!pip install google-cloud-datastore"
   ]
  },
  {
   "cell_type": "markdown",
   "metadata": {},
   "source": [
    "Dodaje swoje biblioteki:"
   ]
  },
  {
   "cell_type": "code",
   "execution_count": null,
   "metadata": {},
   "outputs": [],
   "source": [
    "!pip uninstall stop_words\n",
    "!pip install stop_words"
   ]
  },
  {
   "cell_type": "code",
   "execution_count": null,
   "metadata": {},
   "outputs": [],
   "source": [
    "!pip uninstall requests\n",
    "!pip install requests"
   ]
  },
  {
   "cell_type": "markdown",
   "metadata": {},
   "source": [
    "Hit Reset Session > Restart, then resume with the following cells. "
   ]
  },
  {
   "cell_type": "code",
   "execution_count": null,
   "metadata": {},
   "outputs": [],
   "source": [
    "!pip install --upgrade google-cloud-datastore"
   ]
  },
  {
   "cell_type": "code",
   "execution_count": null,
   "metadata": {},
   "outputs": [],
   "source": [
    "# Import potrzebnych bibliotek\n",
    "from stop_words import get_stop_words\n",
    "from bs4 import BeautifulSoup\n",
    "import requests\n",
    "import re"
   ]
  },
  {
   "cell_type": "code",
   "execution_count": null,
   "metadata": {},
   "outputs": [],
   "source": [
    "# Polskie stopwodrsy\n",
    "stop = get_stop_words('polish')"
   ]
  },
  {
   "cell_type": "code",
   "execution_count": null,
   "metadata": {},
   "outputs": [],
   "source": [
    "from google.cloud import datastore"
   ]
  },
  {
   "cell_type": "code",
   "execution_count": null,
   "metadata": {},
   "outputs": [],
   "source": [
    "datastore_client = datastore.Client()"
   ]
  },
  {
   "cell_type": "code",
   "execution_count": null,
   "metadata": {},
   "outputs": [],
   "source": [
    "client = datastore.Client()\n",
    "query = client.query(kind='Topic')\n",
    "results = list(query.fetch())"
   ]
  },
  {
   "cell_type": "markdown",
   "metadata": {},
   "source": [
    "## Wyciągnie synonimów w Pythonie\n",
    "Tutaj będzie info"
   ]
  },
  {
   "cell_type": "code",
   "execution_count": null,
   "metadata": {},
   "outputs": [],
   "source": [
    "# todo: sprawdzić bibliotekę\n",
    "#from sets import Set\n",
    "\n",
    "\n",
    "def get_synonyms(word):\n",
    "    word = str(word)\n",
    "    print(\"The word is: {}\".format(word))\n",
    "    s = requests.session()\n",
    "    synonyms_output = []\n",
    "    synonyms_output.append(word)\n",
    "    # Pobieram data=h\n",
    "    response = s.get('http://odmiana.net')\n",
    "    s.encoding = 'utf-8'\n",
    "    html = response.text\n",
    "    x = re.search(r'data\\-h\\=\"([a-f0-9]*)\\\"', html)\n",
    "    if x:\n",
    "        varH = x.group(1)\n",
    "        # Pobieram rzeczownik\n",
    "        # http://odmiana.net/a.filtruj.php?h=bd077a519d7ac9e6623155b96dbaefd5&f=FRAZA\n",
    "        response = s.get('http://odmiana.net/a.filtruj.php?h={}&f={}'.format(varH, word))\n",
    "        print('Pobieram rzeczownik: http://odmiana.net/a.filtruj.php?h={}&f={}'.format(varH, word))\n",
    "        code = response.status_code\n",
    "        if code == 200:\n",
    "            html = response.text\n",
    "            soup = BeautifulSoup(html, 'lxml')\n",
    "            for rzeczownik in soup.find_all('b'):\n",
    "                if(rzeczownik.text == 'Lista wyszukiwania jest pusta!'):\n",
    "                    print(\"Brak znalezionych wynikow\")\n",
    "                    continue\n",
    "                print(\"Rzeczownik to: {}\".format(rzeczownik.text))\n",
    "                # Próba rozwiązania problemu z UTF8 i Google Cloud\n",
    "                rzeczownikVar = rzeczownik.text\n",
    "                if rzeczownikVar != 'Brak znalezionych wynikow':\n",
    "                  if rzeczownik.text not in synonyms_output:\n",
    "                    synonyms_output.append(rzeczownikVar)\n",
    "                # Mamy rzeczownik\n",
    "                # Odmiana przez przypadki\n",
    "                # http://odmiana.net/odmiana-przez-przypadki-rzeczownika-drzewo\n",
    "                response = s.get('http://odmiana.net/odmiana-przez-przypadki-rzeczownika-{}'.format(rzeczownikVar))\n",
    "                s.encoding = 'utf-8'\n",
    "                print(\"Pobieram odmiany: http://odmiana.net/odmiana-przez-przypadki-rzeczownika-{}\".format(rzeczownikVar))\n",
    "                code = response.status_code\n",
    "                if code == 200:\n",
    "                  html = response.text\n",
    "                  soup = BeautifulSoup(html, 'lxml')\n",
    "                  skip = ['Przypadek', 'Liczba pojedyncza', 'Liczba mnoga', 'Mianownik (kto? co?):',\n",
    "                          'Narzędnik (z kim? z czym?):', 'Dopełniacz (kogo? czego?):', 'Celownik (komu? czemu?):',\n",
    "                          'Biernik (kogo? co?):', 'Miejscownik (o kim? o czym?):', 'Wołacz (hej!):']\n",
    "                  for main_div in soup.findAll('div', {'class': 'ekran'}):\n",
    "                    for element in main_div.findAll('td'):\n",
    "                      if element.text not in skip and element.text not in synonyms_output:\n",
    "                        synonyms_output.append(element.text)\n",
    "                # Pobieramy wszystkie synonimy\n",
    "                # http://intersiechost.home.pl/_pub/synonimy/index.php?word=drzewo\n",
    "                response = s.get('http://intersiechost.home.pl/_pub/synonimy/index.php?word={}'.format(rzeczownikVar))\n",
    "                html = response.text\n",
    "                print(\"Pobieram synonimy:\")\n",
    "                print(rzeczownik.text)\n",
    "                print('http://intersiechost.home.pl/_pub/synonimy/index.php?word={}'.format(rzeczownikVar))\n",
    "                synonimy = html.split(\";\")\n",
    "                for synonim in synonimy:\n",
    "                  if synonim not in synonyms_output and synonim != \"\":\n",
    "                    synonyms_output.append(synonim)\n",
    "                break\n",
    "    else:\n",
    "        print(\"Nie znaleziono rzeczownika\")\n",
    "    return synonyms_output\n",
    "  \n",
    "for result in results:\n",
    "  for word in result.key.name.split():\n",
    "    \n",
    "    # Pomijam zbędne słowa\n",
    "    if word in stop:\n",
    "      print(\"word {} in stop, continue.\".format(word))\n",
    "      continue\n",
    "        \n",
    "    synonyms = set()\n",
    "    for syn in get_synonyms(word):\n",
    "      synonyms.add(syn)\n",
    "    \n",
    "    print(\"result key name, word, synonyms\")\n",
    "    print(result.key.name, word, synonyms)\n",
    "    \n",
    "    kind = 'Synonym'\n",
    "    synonym_key = datastore_client.key(kind, result.key.name)\n",
    "    synonym = datastore.Entity(key=synonym_key)\n",
    "    synonym['synonym'] = result.key.name\n",
    "    datastore_client.put(synonym)\n",
    "    \n",
    "    synonym_key = datastore_client.key(kind, word)\n",
    "    synonym = datastore.Entity(key=synonym_key)\n",
    "    synonym['synonym'] = result.key.name\n",
    "    datastore_client.put(synonym)\n",
    "    \n",
    "    for dictionary_synonym in synonyms:\n",
    "      synonym_key = datastore_client.key(kind, dictionary_synonym)\n",
    "      synonym = datastore.Entity(key=synonym_key)\n",
    "      synonym['synonym'] = result.key.name\n",
    "      print(\"synonym key is: {}, dict_synonym_is {}, [synonym] is: {} \".format(synonym_key, dictionary_synonym,result.key.name))\n",
    "      datastore_client.put(synonym)"
   ]
  },
  {
   "cell_type": "code",
   "execution_count": null,
   "metadata": {},
   "outputs": [],
   "source": []
  }
 ],
 "metadata": {
  "kernelspec": {
   "display_name": "Python 3",
   "language": "python",
   "name": "python3"
  },
  "language_info": {
   "codemirror_mode": {
    "name": "ipython",
    "version": 3
   },
   "file_extension": ".py",
   "mimetype": "text/x-python",
   "name": "python",
   "nbconvert_exporter": "python",
   "pygments_lexer": "ipython3",
   "version": "3.7.4"
  }
 },
 "nbformat": 4,
 "nbformat_minor": 2
}
