{
 "cells": [
  {
   "cell_type": "code",
   "execution_count": 1,
   "metadata": {},
   "outputs": [
    {
     "name": "stdout",
     "output_type": "stream",
     "text": [
      "\u001b[33mDEPRECATION: Python 2.7 will reach the end of its life on January 1st, 2020. Please upgrade your Python as Python 2.7 won't be maintained after that date. A future version of pip will drop support for Python 2.7. More details about Python 2 support in pip, can be found at https://pip.pypa.io/en/latest/development/release-process/#python-2-support\u001b[0m\n",
      "Requirement already satisfied: flask in /usr/local/envs/py2env/lib/python2.7/site-packages (0.11.1)\n",
      "Requirement already satisfied: itsdangerous>=0.21 in /usr/local/envs/py2env/lib/python2.7/site-packages (from flask) (1.1.0)\n",
      "Requirement already satisfied: click>=2.0 in /usr/local/envs/py2env/lib/python2.7/site-packages (from flask) (7.0)\n",
      "Requirement already satisfied: Jinja2>=2.4 in /usr/local/envs/py2env/lib/python2.7/site-packages (from flask) (2.8)\n",
      "Requirement already satisfied: Werkzeug>=0.7 in /usr/local/envs/py2env/lib/python2.7/site-packages (from flask) (0.15.4)\n",
      "Requirement already satisfied: MarkupSafe in /usr/local/envs/py2env/lib/python2.7/site-packages (from Jinja2>=2.4->flask) (1.1.1)\n"
     ]
    }
   ],
   "source": [
    "# Only need to do this once...\n",
    "!pip install flask"
   ]
  },
  {
   "cell_type": "code",
   "execution_count": 2,
   "metadata": {},
   "outputs": [],
   "source": [
    "import json\n",
    "import re\n",
    "import random\n",
    "from flask import Flask, request, jsonify, make_response\n",
    "from functools import wraps\n",
    "from google.cloud import datastore"
   ]
  },
  {
   "cell_type": "code",
   "execution_count": 1,
   "metadata": {},
   "outputs": [
    {
     "ename": "SyntaxError",
     "evalue": "Missing parentheses in call to 'print'. Did you mean print('Request:')? (<ipython-input-1-27ed7d8d53c4>, line 31)",
     "output_type": "error",
     "traceback": [
      "\u001b[1;36m  File \u001b[1;32m\"<ipython-input-1-27ed7d8d53c4>\"\u001b[1;36m, line \u001b[1;32m31\u001b[0m\n\u001b[1;33m    print 'Request:'\u001b[0m\n\u001b[1;37m                   ^\u001b[0m\n\u001b[1;31mSyntaxError\u001b[0m\u001b[1;31m:\u001b[0m Missing parentheses in call to 'print'. Did you mean print('Request:')?\n"
     ]
    }
   ],
   "source": [
    "app = Flask(__name__)\n",
    "\n",
    "def requires_auth(f):\n",
    "    @wraps(f)\n",
    "    def decorated(*args, **kwards):\n",
    "        auth = request.authorization\n",
    "        if not auth or not check_auth(auth.username, auth.password):\n",
    "            return authenticate()\n",
    "        return f(*args, **kwards)\n",
    "    return decorated\n",
    "\n",
    "def check_auth(username, password):\n",
    "    # This function is called to check if a username /\n",
    "    # password combination is valid.\n",
    "    uname=\"[YOUR_LOGIN]\"\n",
    "    pwd=\"[YOUR_PASSWORD]\"\n",
    "    return username == uname and password == pwd\n",
    "\n",
    "def authenticate():\n",
    "    # Sends a 401 response that enables basic auth\n",
    "    logging.info(\"inside authenticate\")\n",
    "    return Response(\n",
    "    'Could not verify your access level for that URL.\\n'\n",
    "    'You have to login with proper credentials', 401,\n",
    "    {'WWW-Authenticate': 'Basic realm=\"Login Required\"'})\n",
    "  \n",
    "@app.route('/webhook/', methods=['POST'])\n",
    "@requires_auth\n",
    "def handle():\n",
    "    req = request.get_json(silent=True, force=True)\n",
    "    print 'Request:'\n",
    "    print(json.dumps(req, indent=4))\n",
    "    if req.get('queryResult').get('action') != 'lookup':\n",
    "        return {}\n",
    "    topic = req.get('queryResult').get('parameters').get('topic')\n",
    "    topic = re.sub(r'[^\\w\\s]', '', topic)\n",
    "    print topic\n",
    "    rsp = getResponse(topic)\n",
    "    rsp = json.dumps(rsp, indent=4)\n",
    "    print rsp\n",
    "    r = make_response(rsp)\n",
    "    r.headers['Content-Type'] = 'application/json'\n",
    "    return r\n",
    "\n",
    "def getResponse(topic):\n",
    "    \n",
    "    client = datastore.Client()\n",
    "    query = client.query(kind='Synonym')\n",
    "    key = client.key('Synonym', topic)\n",
    "    query.key_filter(key, '=')\n",
    "    results = list(query.fetch())\n",
    "    \n",
    "    if len(results) == 0:\n",
    "        rply = ['Niestety nie wiem o co chodzi, spróbuj zadać inne pytanie.', 'Niestety nie potrafię udzielić odpowiedzi.', 'Proszę spytaj jeszcze raz.']\n",
    "        replytxt = '{}\\nIntent: {}'.format(rply[random.randint(0, 2)], topic)\n",
    "        return buildReply(replytxt)\n",
    "    \n",
    "    print results[0]['synonym']\n",
    "    \n",
    "    query = client.query(kind='Topic')\n",
    "    key = client.key('Topic', results[0]['synonym'])\n",
    "    query.key_filter(key, '=')\n",
    "    results = list(query.fetch())\n",
    "    \n",
    "    print results[0]['action_text']\n",
    "    \n",
    "    return buildReply(results[0]['action_text'])\n",
    "\n",
    "def buildReply(info):\n",
    "    return {\n",
    "        'fulfillmentText': info,\n",
    "    }\n",
    "\n",
    "if __name__ == '__main__':\n",
    "    app.run(host='0.0.0.0')"
   ]
  },
  {
   "cell_type": "code",
   "execution_count": null,
   "metadata": {},
   "outputs": [],
   "source": []
  }
 ],
 "metadata": {
  "kernelspec": {
   "display_name": "Python 3",
   "language": "python",
   "name": "python3"
  },
  "language_info": {
   "codemirror_mode": {
    "name": "ipython",
    "version": 3
   },
   "file_extension": ".py",
   "mimetype": "text/x-python",
   "name": "python",
   "nbconvert_exporter": "python",
   "pygments_lexer": "ipython3",
   "version": "3.7.4"
  }
 },
 "nbformat": 4,
 "nbformat_minor": 2
}
